{
 "cells": [
  {
   "cell_type": "code",
   "execution_count": 7,
   "id": "c422cde8",
   "metadata": {},
   "outputs": [
    {
     "name": "stdout",
     "output_type": "stream",
     "text": [
      "  % Total    % Received % Xferd  Average Speed   Time    Time     Time  Current\n",
      "                                 Dload  Upload   Total   Spent    Left  Speed\n",
      "100   746  100   746    0     0   2288      0 --:--:-- --:--:-- --:--:--  2288\n",
      "  % Total    % Received % Xferd  Average Speed   Time    Time     Time  Current\n",
      "                                 Dload  Upload   Total   Spent    Left  Speed\n",
      "100   323  100   323    0     0    993      0 --:--:-- --:--:-- --:--:--   990\n"
     ]
    }
   ],
   "source": [
    "PREFIX=\"https://raw.githubusercontent.com/alexeygrigorev/mlbookcamp-code/master/course-zoomcamp/05-deployment/homework\"\n",
    "!curl $PREFIX/model1.bin -o /Users/sebastian/Documents/ML/ML\\ zoomcamp\\ week\\ 5/model1.bin\n",
    "!curl $PREFIX/dv.bin -o /Users/sebastian/Documents/ML/ML\\ zoomcamp\\ week\\ 5/dv.bin"
   ]
  },
  {
   "cell_type": "code",
   "execution_count": 8,
   "id": "ff770a0c",
   "metadata": {},
   "outputs": [],
   "source": [
    "customer = {\"contract\": \"two_year\", \"tenure\": 12, \"monthlycharges\": 19.7}"
   ]
  },
  {
   "cell_type": "code",
   "execution_count": 9,
   "id": "eb563f89",
   "metadata": {},
   "outputs": [],
   "source": [
    "import pickle"
   ]
  },
  {
   "cell_type": "code",
   "execution_count": 12,
   "id": "40db6dc4",
   "metadata": {},
   "outputs": [],
   "source": [
    "with open(\"model1.bin\", \"rb\") as f_in:\n",
    "    model = pickle.load(f_in)"
   ]
  },
  {
   "cell_type": "code",
   "execution_count": 13,
   "id": "96ee559c",
   "metadata": {},
   "outputs": [
    {
     "name": "stderr",
     "output_type": "stream",
     "text": [
      "/Users/sebastian/anaconda3/envs/ml-zoomcamp/lib/python3.8/site-packages/sklearn/base.py:310: UserWarning: Trying to unpickle estimator DictVectorizer from version 1.0 when using version 0.24.2. This might lead to breaking code or invalid results. Use at your own risk.\n",
      "  warnings.warn(\n"
     ]
    }
   ],
   "source": [
    "with open(\"dv.bin\", \"rb\") as f_in:\n",
    "    dv = pickle.load(f_in)"
   ]
  },
  {
   "cell_type": "code",
   "execution_count": 18,
   "id": "972c4f16",
   "metadata": {},
   "outputs": [],
   "source": [
    "def predict():\n",
    "    customer = request.get_json()\n",
    "    y_pred = use_model(dv, model)\n",
    "    churn = y_pred >= 0.5\n",
    "    result = {\n",
    "        \"churn_probability\": float(y_pred), \n",
    "        \"churn\": bool(churn)\n",
    "    }\n",
    "    return jsonify(result)"
   ]
  },
  {
   "cell_type": "code",
   "execution_count": 14,
   "id": "982bbb1f",
   "metadata": {},
   "outputs": [],
   "source": [
    "X = dv.transform(customer)\n",
    "y_pred = model.predict_proba(X)[0,1]"
   ]
  },
  {
   "cell_type": "code",
   "execution_count": 23,
   "id": "71ca606c",
   "metadata": {},
   "outputs": [
    {
     "name": "stdout",
     "output_type": "stream",
     "text": [
      "{'churn_probability': 0.9988892771007961, 'churn': True}\n"
     ]
    },
    {
     "name": "stderr",
     "output_type": "stream",
     "text": [
      "/Users/sebastian/anaconda3/envs/ml-zoomcamp/lib/python3.8/site-packages/sklearn/base.py:310: UserWarning: Trying to unpickle estimator LogisticRegression from version 1.0 when using version 0.24.2. This might lead to breaking code or invalid results. Use at your own risk.\n",
      "  warnings.warn(\n",
      "/Users/sebastian/anaconda3/envs/ml-zoomcamp/lib/python3.8/site-packages/sklearn/base.py:310: UserWarning: Trying to unpickle estimator DictVectorizer from version 1.0 when using version 0.24.2. This might lead to breaking code or invalid results. Use at your own risk.\n",
      "  warnings.warn(\n"
     ]
    }
   ],
   "source": [
    "import pickle\n",
    "\n",
    "model_file = \"model1.bin\"\n",
    "dv_file = \"dv.bin\"\n",
    "\n",
    "with open(model_file, 'rb') as f_in:\n",
    "    model = pickle.load(f_in)\n",
    "\n",
    "with open(dv_file, \"rb\") as f_in:\n",
    "    dv = pickle.load(f_in)\n",
    "\n",
    "predict()\n",
    "    \n",
    "def predict():\n",
    "    customer = {\"contract\": \"two_year\", \"tenure\": 1, \"monthlycharges\": 10}\n",
    "    y_pred = use_model(dv, model, customer)\n",
    "    churn = y_pred >= 0.5\n",
    "    result = {\n",
    "        \"churn_probability\": float(y_pred), \n",
    "        \"churn\": bool(churn)\n",
    "    }\n",
    "    print(result)\n",
    "\n",
    "def use_model(dv, model, customer):\n",
    "\tX = dv.transform([customer])\n",
    "\treturn model.predict_proba(X)[0,1]"
   ]
  }
 ],
 "metadata": {
  "kernelspec": {
   "display_name": "Python 3 (ipykernel)",
   "language": "python",
   "name": "python3"
  },
  "language_info": {
   "codemirror_mode": {
    "name": "ipython",
    "version": 3
   },
   "file_extension": ".py",
   "mimetype": "text/x-python",
   "name": "python",
   "nbconvert_exporter": "python",
   "pygments_lexer": "ipython3",
   "version": "3.8.11"
  }
 },
 "nbformat": 4,
 "nbformat_minor": 5
}
